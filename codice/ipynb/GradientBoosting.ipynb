{
 "cells": [
  {
   "cell_type": "code",
   "execution_count": 136,
   "metadata": {},
   "outputs": [
    {
     "data": {
      "text/plain": [
       "' Pipeline:\\nCaricare Dataset\\nCreare N Dataset Estratti Random (con Replacement)\\nPer ogni dataset:\\n    Addestri un modello che ti dice la classe predetta\\nPer ogni dataset:\\n    Addestri un modello che dice la probabilità delle varie classi\\nMetto insieme i loro risultati quando mi viene chiesta una predizione nuova\\n'"
      ]
     },
     "execution_count": 136,
     "metadata": {},
     "output_type": "execute_result"
    }
   ],
   "source": [
    "''' Pipeline:\n",
    "Caricare Dataset\n",
    "Creare N Dataset Estratti Random (con Replacement)\n",
    "Per ogni dataset:\n",
    "    Addestri un modello che ti dice la classe predetta\n",
    "Per ogni dataset:\n",
    "    Addestri un modello che dice la probabilità delle varie classi\n",
    "Metto insieme i loro risultati quando mi viene chiesta una predizione nuova\n",
    "'''"
   ]
  },
  {
   "cell_type": "code",
   "execution_count": 137,
   "metadata": {},
   "outputs": [],
   "source": [
    "#Caricare Dataset\n",
    "import numpy as np\n",
    "from sklearn.datasets import load_iris\n",
    "X, y = load_iris(return_X_y=True)\n",
    "\n",
    "#divido il dataset in training set e testing set, e il training set ulteriormente in trainingVeroEProprio e Validation\n",
    "#le proporzioni rispetto al totale sono: 60% trainVP, 20% validation, 20% test\n",
    "from sklearn.model_selection import train_test_split\n",
    "X_train, X_test, y_train, y_test = train_test_split(X, y, test_size=0.2, random_state=0)\n",
    "X_trainVP, X_val, y_trainVP, y_val = train_test_split(X_train, y_train, test_size=0.25, random_state=0)  "
   ]
  },
  {
   "cell_type": "code",
   "execution_count": 138,
   "metadata": {},
   "outputs": [],
   "source": [
    "'''(observed proportion)\n",
    "\n",
    "Generate {D1,...,Dn} sampling with replacement from D\n",
    "for all i = 1..n do\n",
    "    Train decision tree Ti on Di\n",
    "end for\n",
    "E = Bagging-Ensemble(T1,...,Tn)\n",
    "'''\n",
    "\n",
    "from sklearn.ensemble import GradientBoostingClassifier\n",
    "from sklearn.ensemble import BaggingClassifier\n",
    "\n",
    "#array di GradientBoostingClassifier basati sul training set vero e proprio, ogni GBC ha 10 estimators\n",
    "#ogni classificatore si basa su subset random del dataset originale\n",
    "gbc = GradientBoostingClassifier(n_estimators=100, random_state=0)\n",
    "T = BaggingClassifier(base_estimator=gbc, n_estimators=100, bootstrap=True, random_state=0).fit(X_trainVP, y_trainVP)"
   ]
  },
  {
   "cell_type": "code",
   "execution_count": 139,
   "metadata": {},
   "outputs": [],
   "source": [
    "'''\n",
    "^y = E.predict(X)\n",
    "'''\n",
    "\n",
    "#y_pred è l'observed proportion basata sul validation set\n",
    "y_pred = T.predict(X_val)"
   ]
  },
  {
   "cell_type": "code",
   "execution_count": 140,
   "metadata": {},
   "outputs": [],
   "source": [
    "''' (expected proportion)\n",
    "\n",
    "for all i = 1..n do\n",
    "    Train decision tree Pi on (X; ^y)\n",
    "end for\n",
    "'''\n",
    "\n",
    "#array di AdaBoostClassifier basati su y_pred\n",
    "gbc1 = GradientBoostingClassifier(n_estimators=100, random_state=0)\n",
    "P = BaggingClassifier(base_estimator=gbc1, n_estimators=100, bootstrap=True, random_state=0).fit(X_val, y_pred)"
   ]
  },
  {
   "cell_type": "code",
   "execution_count": 141,
   "metadata": {},
   "outputs": [],
   "source": [
    "def new_prediction(sample):\n",
    "    for i in range (0, T.n_estimators):\n",
    "        c[i] = T[i].predict(sample)\n",
    "        p[i] = P[i].predict(sample)\n",
    "    \n",
    "    for i in range(0, T.n_classes_):\n",
    "        countc[i] = Counter(c)[i]\n",
    "        countp[i] = Counter(p)[i]\n",
    "\n",
    "    differences = countc - countp\n",
    "    result = countc + differences\n",
    "    \n",
    "    max = np.argmax(result) #indice del valore massimo in result\n",
    "    occurrences = np.count_nonzero(result == result[max]) #quante volte compare il massimo in result\n",
    "\n",
    "    #gestione pareggio (in caso di parità viene scelta l'alternativa con observed proportion massima)\n",
    "    if occurrences > 1:\n",
    "        result1 = np.empty_like(result) #array in cui vengono inseriti i valori di countc corrispondenti al massimo in result\n",
    "        for i in range(0, len(result1)):\n",
    "            if (result[i] != result[max]):\n",
    "                result1[i] = 0\n",
    "            else:\n",
    "                result1[i] = countc[i] #in corrispondenza dei valori massimi, inserisco in result1 i corrispondenti valori osservati (countc)\n",
    "        max = np.argmax(result1) #indice del valore massimo in result1\n",
    "\n",
    "    return max"
   ]
  },
  {
   "cell_type": "code",
   "execution_count": 142,
   "metadata": {},
   "outputs": [],
   "source": [
    "'''\n",
    "c = [0; ...; 0] s.t. |c| = |Y|\n",
    "p = [0; ...; 0] s.t. |p| = |Y|\n",
    "for all i = 1::n do\n",
    "    c = c + Ti.predict(x)\n",
    "    p = p + Pi.predict(x)\n",
    "end for\n",
    "'''\n",
    "\n",
    "#array che per ogni GradientBoostingClassifier definisce la classe predetta\n",
    "#c è la predizione sulla base dell'observed\n",
    "#p è la predizione sulla base dei predicted\n",
    "\n",
    "from collections import Counter\n",
    "\n",
    "c = np.empty((T.n_estimators), dtype = int)\n",
    "p = np.empty_like(c)\n",
    "\n",
    "countc = np.empty((T.n_classes_), dtype = int)\n",
    "countp = np.empty_like(countc)\n",
    "differences = np.empty_like(countc)\n",
    "result = np.empty_like(countc)\n",
    "\n",
    "predictions = np.empty((len(X_test)), dtype = int)\n",
    "\n",
    "#popolo l'array con le predizioni sul test set\n",
    "for i in range (0, len(X_test)):\n",
    "    predictions[i] = new_prediction([X_test[i]])\n",
    "    \n",
    "#calcolo l'accuratezza\n",
    "from sklearn.metrics import accuracy_score\n",
    "acc_GB_SPA = accuracy_score(y_test, predictions)"
   ]
  },
  {
   "cell_type": "code",
   "execution_count": 143,
   "metadata": {},
   "outputs": [],
   "source": [
    "#implementazione tramite GradientBoostingClassifier senza l'implementazione del surprisingly popular algorithm\n",
    "gbc2 = GradientBoostingClassifier(n_estimators=100, random_state=0)\n",
    "bclf = BaggingClassifier(base_estimator=gbc2, n_estimators=100, bootstrap=True, random_state=0)\n",
    "\n",
    "#calcolo l'accuratezza tramite cross-validation su tutto il dataset\n",
    "from sklearn.model_selection import cross_val_score\n",
    "scores = cross_val_score(bclf, X, y, cv=5)\n",
    "acc_GB_single = scores.mean()"
   ]
  },
  {
   "cell_type": "code",
   "execution_count": 144,
   "metadata": {},
   "outputs": [
    {
     "name": "stdout",
     "output_type": "stream",
     "text": [
      "Accuratezza GradientBoosting tramite SPA: 98.2456%\n",
      "Accuratezza GradientBoosting non-SPA: 96.1493%\n"
     ]
    }
   ],
   "source": [
    "print(\"Accuratezza GradientBoosting tramite SPA: {:.4%}\".format(acc_GB_SPA))\n",
    "print(\"Accuratezza GradientBoosting non-SPA: {:.4%}\".format(acc_GB_single))"
   ]
  },
  {
   "cell_type": "code",
   "execution_count": null,
   "metadata": {},
   "outputs": [],
   "source": []
  }
 ],
 "metadata": {
  "kernelspec": {
   "display_name": "Python 3",
   "language": "python",
   "name": "python3"
  },
  "language_info": {
   "codemirror_mode": {
    "name": "ipython",
    "version": 3
   },
   "file_extension": ".py",
   "mimetype": "text/x-python",
   "name": "python",
   "nbconvert_exporter": "python",
   "pygments_lexer": "ipython3",
   "version": "3.7.4"
  }
 },
 "nbformat": 4,
 "nbformat_minor": 2
}
